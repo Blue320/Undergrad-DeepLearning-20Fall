{
 "cells": [
  {
   "cell_type": "markdown",
   "metadata": {
    "id": "dOUtDCQgDJQy"
   },
   "source": [
    "Linear regression 을 학습하며, 기계학습의 원리 및 TensorFlow 를 익히는 notebook 입니다."
   ]
  },
  {
   "cell_type": "markdown",
   "metadata": {
    "id": "7v0LW9vmDJQz"
   },
   "source": [
    "**라이브러리 Import 하기**"
   ]
  },
  {
   "cell_type": "code",
   "execution_count": 1,
   "metadata": {
    "colab": {
     "base_uri": "https://localhost:8080/",
     "height": 71
    },
    "executionInfo": {
     "elapsed": 3075,
     "status": "ok",
     "timestamp": 1601219855352,
     "user": {
      "displayName": "윤수연",
      "photoUrl": "",
      "userId": "04243570625818295637"
     },
     "user_tz": -540
    },
    "id": "ObrlFsLKTkVJ",
    "outputId": "c20fc796-6347-444b-8059-1c4b4c7172f7"
   },
   "outputs": [
    {
     "name": "stdout",
     "output_type": "stream",
     "text": [
      "WARNING:tensorflow:From c:\\users\\윤수연\\appdata\\local\\programs\\python\\python37\\lib\\site-packages\\tensorflow_core\\python\\compat\\v2_compat.py:65: disable_resource_variables (from tensorflow.python.ops.variable_scope) is deprecated and will be removed in a future version.\n",
      "Instructions for updating:\n",
      "non-resource variables are not supported in the long term\n"
     ]
    }
   ],
   "source": [
    "#import tensorflow as tf\n",
    "import tensorflow.compat.v1 as tf\n",
    "tf.disable_v2_behavior()\n",
    "\n",
    "import numpy as np\n",
    "import matplotlib.pyplot as plt"
   ]
  },
  {
   "cell_type": "markdown",
   "metadata": {
    "id": "Ff--9qgf5KiX"
   },
   "source": [
    "**X and Y data (given)**"
   ]
  },
  {
   "cell_type": "code",
   "execution_count": 2,
   "metadata": {
    "executionInfo": {
     "elapsed": 3065,
     "status": "ok",
     "timestamp": 1601219855354,
     "user": {
      "displayName": "윤수연",
      "photoUrl": "",
      "userId": "04243570625818295637"
     },
     "user_tz": -540
    },
    "id": "m8a3CxTPTmGW"
   },
   "outputs": [],
   "source": [
    "x_train = [1, 2, 3, 4, 5, 6]\n",
    "#y_train = [2, 4, 6, 8, 10] #y = 2x\n",
    "#y_train = [3, 5, 7, 9, 11] #y = 2x +1\n",
    "y_train = [0.7, 1.2, 1.7, 2.2, 2.7, 3.2] #y = 0.5x +0.2\n",
    "\n",
    "signal_length = len(x_train)\n",
    "y_noise = np.random.normal(0, 1, signal_length)\n",
    "\n",
    "y_train = y_train + y_noise\n",
    "\n",
    "# 다음의 것들도 해보시오\n",
    "#y_train = [2, 4, 6] # 그냥 x_train 에 2배 곱해서 생성\n",
    "#y_train = [3, 5, 7]"
   ]
  },
  {
   "cell_type": "code",
   "execution_count": 3,
   "metadata": {
    "colab": {
     "base_uri": "https://localhost:8080/",
     "height": 264
    },
    "executionInfo": {
     "elapsed": 3055,
     "status": "ok",
     "timestamp": 1601219855354,
     "user": {
      "displayName": "윤수연",
      "photoUrl": "",
      "userId": "04243570625818295637"
     },
     "user_tz": -540
    },
    "id": "UiEoJEwkuHPb",
    "outputId": "eb582777-1799-4bdf-c5de-3c49c353dfd1"
   },
   "outputs": [
    {
     "data": {
      "image/png": "[encoded data removed]",
      "text/plain": [
       "<Figure size 432x288 with 1 Axes>"
      ]
     },
     "metadata": {
      "needs_background": "light"
     },
     "output_type": "display_data"
    }
   ],
   "source": [
    "plt.plot(x_train, y_train, '.-')\n",
    "plt.grid()"
   ]
  },
  {
   "cell_type": "markdown",
   "metadata": {
    "id": "SkmD0jC-5O4h"
   },
   "source": [
    "**Initialization**"
   ]
  },
  {
   "cell_type": "code",
   "execution_count": 4,
   "metadata": {
    "executionInfo": {
     "elapsed": 3040,
     "status": "ok",
     "timestamp": 1601219855355,
     "user": {
      "displayName": "윤수연",
      "photoUrl": "",
      "userId": "04243570625818295637"
     },
     "user_tz": -540
    },
    "id": "B49EyIf178vW"
   },
   "outputs": [],
   "source": [
    "useRandom = False"
   ]
  },
  {
   "cell_type": "code",
   "execution_count": 5,
   "metadata": {
    "executionInfo": {
     "elapsed": 3029,
     "status": "ok",
     "timestamp": 1601219855356,
     "user": {
      "displayName": "윤수연",
      "photoUrl": "",
      "userId": "04243570625818295637"
     },
     "user_tz": -540
    },
    "id": "s2teBTHMTpvu"
   },
   "outputs": [],
   "source": [
    "if useRandom:\n",
    "   W = tf.Variable(tf.random_normal([1]), name='weight')\n",
    "   b = tf.Variable(tf.random_normal([1]), name='bias')\n",
    "else:\n",
    "    w0 = 4.0;\n",
    "    b0 = 2.0;\n",
    "\n",
    "    W = tf.Variable(w0*tf.ones([1]), name='weight')\n",
    "    b = tf.Variable(b0*tf.ones([1]), name='bias')"
   ]
  },
  {
   "cell_type": "markdown",
   "metadata": {
    "id": "bKecubeL5Rk1"
   },
   "source": [
    "**Our hypothesis**\n",
    "$$ H(x)=Wx + b $$"
   ]
  },
  {
   "cell_type": "code",
   "execution_count": 6,
   "metadata": {
    "executionInfo": {
     "elapsed": 3017,
     "status": "ok",
     "timestamp": 1601219855357,
     "user": {
      "displayName": "윤수연",
      "photoUrl": "",
      "userId": "04243570625818295637"
     },
     "user_tz": -540
    },
    "id": "qc634hVjTshB"
   },
   "outputs": [],
   "source": [
    "hypothesis = x_train * W + b"
   ]
  },
  {
   "cell_type": "markdown",
   "metadata": {
    "id": "hgAMH_UP5Vei"
   },
   "source": [
    "**cost/loss function 정의하기**\n",
    "* loss of one training example : \n",
    "$$loss = \\mathcal{L}(\\hat{y}, y) = (\\hat y^{(i)} - y^{(i)})^2 \\tag{1}$$"
   ]
  },
  {
   "cell_type": "code",
   "execution_count": 7,
   "metadata": {
    "executionInfo": {
     "elapsed": 3008,
     "status": "ok",
     "timestamp": 1601219855357,
     "user": {
      "displayName": "윤수연",
      "photoUrl": "",
      "userId": "04243570625818295637"
     },
     "user_tz": -540
    },
    "id": "5RPz8FVqTvaD"
   },
   "outputs": [],
   "source": [
    "loss = tf.reduce_mean(tf.square(hypothesis - y_train))"
   ]
  },
  {
   "cell_type": "markdown",
   "metadata": {
    "id": "jfkFeTNj5bd0"
   },
   "source": [
    "**Optimizer**"
   ]
  },
  {
   "cell_type": "code",
   "execution_count": 8,
   "metadata": {
    "executionInfo": {
     "elapsed": 3001,
     "status": "ok",
     "timestamp": 1601219855358,
     "user": {
      "displayName": "윤수연",
      "photoUrl": "",
      "userId": "04243570625818295637"
     },
     "user_tz": -540
    },
    "id": "_hpMR9RZTwjC"
   },
   "outputs": [],
   "source": [
    "optimizer = tf.train.GradientDescentOptimizer(learning_rate=0.01)\n",
    "train = optimizer.minimize(loss)\n"
   ]
  },
  {
   "cell_type": "markdown",
   "metadata": {
    "id": "Yv_IR1Wx44M6"
   },
   "source": [
    "**Launch the graph in a session**"
   ]
  },
  {
   "cell_type": "code",
   "execution_count": 9,
   "metadata": {
    "executionInfo": {
     "elapsed": 2993,
     "status": "ok",
     "timestamp": 1601219855358,
     "user": {
      "displayName": "윤수연",
      "photoUrl": "",
      "userId": "04243570625818295637"
     },
     "user_tz": -540
    },
    "id": "LN795UxoTxtC"
   },
   "outputs": [],
   "source": [
    "sess = tf.Session()"
   ]
  },
  {
   "cell_type": "markdown",
   "metadata": {
    "id": "vQAFU25K5BCw"
   },
   "source": [
    "**Initializes global variables in the graph.** "
   ]
  },
  {
   "cell_type": "code",
   "execution_count": 10,
   "metadata": {
    "executionInfo": {
     "elapsed": 2985,
     "status": "ok",
     "timestamp": 1601219855359,
     "user": {
      "displayName": "윤수연",
      "photoUrl": "",
      "userId": "04243570625818295637"
     },
     "user_tz": -540
    },
    "id": "oA5AMENsTzDW"
   },
   "outputs": [],
   "source": [
    "sess.run(tf.global_variables_initializer())"
   ]
  },
  {
   "cell_type": "code",
   "execution_count": 11,
   "metadata": {
    "colab": {
     "base_uri": "https://localhost:8080/",
     "height": 397
    },
    "executionInfo": {
     "elapsed": 3566,
     "status": "ok",
     "timestamp": 1601219855949,
     "user": {
      "displayName": "윤수연",
      "photoUrl": "",
      "userId": "04243570625818295637"
     },
     "user_tz": -540
    },
    "id": "Of8RSfAgT065",
    "outputId": "4626a21b-8169-4d47-f1a2-c0b31684777f"
   },
   "outputs": [
    {
     "name": "stdout",
     "output_type": "stream",
     "text": [
      "0 \t 103.621185 \t [2.8377442] \t [1.7260876]\n",
      "50 \t 0.3816465 \t [0.38779736] \t [1.0428376]\n",
      "100 \t 0.36542162 \t [0.40827444] \t [0.9551711]\n",
      "150 \t 0.35416523 \t [0.42533046] \t [0.88215095]\n",
      "200 \t 0.3463558 \t [0.43953693] \t [0.8213303]\n",
      "250 \t 0.34093788 \t [0.45136988] \t [0.77067095]\n",
      "300 \t 0.33717906 \t [0.4612259] \t [0.7284754]\n",
      "350 \t 0.3345714 \t [0.46943527] \t [0.6933294]\n",
      "400 \t 0.3327622 \t [0.47627312] \t [0.66405517]\n",
      "450 \t 0.331507 \t [0.48196852] \t [0.63967216]\n",
      "500 \t 0.3306362 \t [0.4867125] \t [0.61936235]\n",
      "550 \t 0.33003208 \t [0.49066383] \t [0.6024458]\n",
      "600 \t 0.32961288 \t [0.49395502] \t [0.5883556]\n",
      "650 \t 0.32932213 \t [0.49669635] \t [0.5766194]\n",
      "700 \t 0.32912034 \t [0.4989797] \t [0.56684387]\n",
      "750 \t 0.32898048 \t [0.50088155] \t [0.55870163]\n",
      "800 \t 0.32888338 \t [0.50246567] \t [0.5519198]\n",
      "850 \t 0.32881597 \t [0.50378513] \t [0.5462709]\n",
      "900 \t 0.32876924 \t [0.5048841] \t [0.54156595]\n",
      "950 \t 0.3287368 \t [0.50579953] \t [0.5376469]\n",
      "1000 \t 0.32871428 \t [0.50656205] \t [0.53438246]\n"
     ]
    }
   ],
   "source": [
    "nb_epoch = 1001\n",
    "vloss = [] #empty list\n",
    "vb = [] #empty list\n",
    "vw = [] #empty list\n",
    "\n",
    "for step in range(nb_epoch):\n",
    "    sess.run(train)\n",
    "    loss1 = sess.run(loss)\n",
    "    b1 = sess.run(b)\n",
    "    w1 = sess.run(W)\n",
    "    vloss.append(loss1)\n",
    "    vb.append(b1)\n",
    "    vw.append(w1)\n",
    "\n",
    "    if step % 50 == 0: # 200번마다\n",
    "        print(step, '\\t', loss1, '\\t', w1, '\\t', b1)"
   ]
  },
  {
   "cell_type": "code",
   "execution_count": 12,
   "metadata": {
    "colab": {
     "base_uri": "https://localhost:8080/",
     "height": 297
    },
    "executionInfo": {
     "elapsed": 4165,
     "status": "ok",
     "timestamp": 1601219856558,
     "user": {
      "displayName": "윤수연",
      "photoUrl": "",
      "userId": "04243570625818295637"
     },
     "user_tz": -540
    },
    "id": "GslqBHB95vZL",
    "outputId": "97fc46e7-66a5-4d28-b49a-f0fef89f5e56"
   },
   "outputs": [
    {
     "data": {
      "text/plain": [
       "Text(0, 0.5, 'loss')"
      ]
     },
     "execution_count": 12,
     "metadata": {},
     "output_type": "execute_result"
    },
    {
     "data": {
      "image/png": "[encoded data removed]",
      "text/plain": [
       "<Figure size 432x288 with 1 Axes>"
      ]
     },
     "metadata": {
      "needs_background": "light"
     },
     "output_type": "display_data"
    }
   ],
   "source": [
    "plt.plot(vloss[:20],'.-')\n",
    "plt.xlabel('epoch')\n",
    "plt.ylabel('loss')"
   ]
  },
  {
   "cell_type": "code",
   "execution_count": 13,
   "metadata": {
    "colab": {
     "base_uri": "https://localhost:8080/",
     "height": 297
    },
    "executionInfo": {
     "elapsed": 4156,
     "status": "ok",
     "timestamp": 1601219856560,
     "user": {
      "displayName": "윤수연",
      "photoUrl": "",
      "userId": "04243570625818295637"
     },
     "user_tz": -540
    },
    "id": "GNH5E5nk_5P2",
    "outputId": "24f909c7-75a5-4b1c-f0c7-260e28dc9f68"
   },
   "outputs": [
    {
     "data": {
      "text/plain": [
       "Text(0, 0.5, 'b')"
      ]
     },
     "execution_count": 13,
     "metadata": {},
     "output_type": "execute_result"
    },
    {
     "data": {
      "image/png": "[encoded data removed]",
      "text/plain": [
       "<Figure size 432x288 with 1 Axes>"
      ]
     },
     "metadata": {
      "needs_background": "light"
     },
     "output_type": "display_data"
    }
   ],
   "source": [
    "plt.plot(vb[:20],'.-')\n",
    "plt.xlabel('epoch')\n",
    "plt.ylabel('b')"
   ]
  },
  {
   "cell_type": "code",
   "execution_count": 14,
   "metadata": {
    "colab": {
     "base_uri": "https://localhost:8080/",
     "height": 297
    },
    "executionInfo": {
     "elapsed": 4740,
     "status": "ok",
     "timestamp": 1601219857156,
     "user": {
      "displayName": "윤수연",
      "photoUrl": "",
      "userId": "04243570625818295637"
     },
     "user_tz": -540
    },
    "id": "lzywkAXK-YnY",
    "outputId": "8a4b0471-0f4a-4f0c-b5d7-94c50df06ae9"
   },
   "outputs": [
    {
     "data": {
      "text/plain": [
       "Text(0, 0.5, 'W')"
      ]
     },
     "execution_count": 14,
     "metadata": {},
     "output_type": "execute_result"
    },
    {
     "data": {
      "image/png": "[encoded data removed]",
      "text/plain": [
       "<Figure size 432x288 with 1 Axes>"
      ]
     },
     "metadata": {
      "needs_background": "light"
     },
     "output_type": "display_data"
    }
   ],
   "source": [
    "plt.plot(vw[:20],'.-')\n",
    "plt.xlabel('epoch')\n",
    "plt.ylabel('W')"
   ]
  },
  {
   "cell_type": "markdown",
   "metadata": {
    "id": "gbt69NzVUGYw"
   },
   "source": [
    "\n",
    "**학습완료**"
   ]
  },
  {
   "cell_type": "code",
   "execution_count": 15,
   "metadata": {
    "executionInfo": {
     "elapsed": 4729,
     "status": "ok",
     "timestamp": 1601219857157,
     "user": {
      "displayName": "윤수연",
      "photoUrl": "",
      "userId": "04243570625818295637"
     },
     "user_tz": -540
    },
    "id": "2aMiqAyJUDbs"
   },
   "outputs": [],
   "source": [
    "w1 = sess.run(W)[0] # 기울기\n",
    "b1 = sess.run(b)[0] # bias"
   ]
  },
  {
   "cell_type": "markdown",
   "metadata": {
    "id": "X9slxXBGDJRJ"
   },
   "source": [
    "출력해보기"
   ]
  },
  {
   "cell_type": "code",
   "execution_count": 16,
   "metadata": {
    "colab": {
     "base_uri": "https://localhost:8080/",
     "height": 35
    },
    "executionInfo": {
     "elapsed": 4720,
     "status": "ok",
     "timestamp": 1601219857157,
     "user": {
      "displayName": "윤수연",
      "photoUrl": "",
      "userId": "04243570625818295637"
     },
     "user_tz": -540
    },
    "id": "DoJgfrumDJRK",
    "outputId": "7d78a12a-b7e8-47f3-bfe8-0c7c5faec14c"
   },
   "outputs": [
    {
     "name": "stdout",
     "output_type": "stream",
     "text": [
      "0.50656205 0.53438246\n"
     ]
    }
   ],
   "source": [
    "print(w1, b1)"
   ]
  },
  {
   "cell_type": "code",
   "execution_count": 17,
   "metadata": {
    "colab": {
     "base_uri": "https://localhost:8080/",
     "height": 35
    },
    "executionInfo": {
     "elapsed": 4711,
     "status": "ok",
     "timestamp": 1601219857158,
     "user": {
      "displayName": "윤수연",
      "photoUrl": "",
      "userId": "04243570625818295637"
     },
     "user_tz": -540
    },
    "id": "Y_Svor_w6vHp",
    "outputId": "1beeea33-bf2e-4480-e71e-a2fef8ef5129"
   },
   "outputs": [
    {
     "name": "stdout",
     "output_type": "stream",
     "text": [
      "y = 0.50656205x + 0.53438246\n"
     ]
    }
   ],
   "source": [
    "str1 = 'y = ' + str(w1) +'x + ' + str(b1)\n",
    "print(str1)"
   ]
  },
  {
   "cell_type": "code",
   "execution_count": 18,
   "metadata": {
    "colab": {
     "base_uri": "https://localhost:8080/",
     "height": 272
    },
    "executionInfo": {
     "elapsed": 4701,
     "status": "ok",
     "timestamp": 1601219857159,
     "user": {
      "displayName": "윤수연",
      "photoUrl": "",
      "userId": "04243570625818295637"
     },
     "user_tz": -540
    },
    "id": "ZFOmY19QUNKh",
    "outputId": "e5bc11b4-8641-44c5-9112-6c6b96040921"
   },
   "outputs": [
    {
     "data": {
      "text/plain": [
       "Text(0.5, 1.0, 'y = 0.50656205x + 0.53438246')"
      ]
     },
     "execution_count": 18,
     "metadata": {},
     "output_type": "execute_result"
    },
    {
     "data": {
      "image/png": "[encoded data removed]",
      "text/plain": [
       "<Figure size 360x252 with 1 Axes>"
      ]
     },
     "metadata": {
      "needs_background": "light"
     },
     "output_type": "display_data"
    }
   ],
   "source": [
    "plt.figure(figsize=(5,3.5)) # figsize를 바꾸어보세요\n",
    "plt.plot(x_train, y_train,'o') #train data 그리기\n",
    "\n",
    "# 직선 그래프를 그리기 위한 코드\n",
    "# 그래프의 x좌표를 일정 간격으로 설정함\n",
    "x1 = np.linspace(np.min(x_train)-1, np.max(x_train)+1)\n",
    "y1 = w1*x1 + b1\n",
    "plt.plot(x1, y1)\n",
    "\n",
    "plt.grid() # 격자\n",
    "#plt.axis((np.min(x_train) - 1, np.max(x_train) + 1, np.min(y_train) - 1, np.max(y_train) + 1))\n",
    "plt.title(str1)"
   ]
  },
  {
   "cell_type": "markdown",
   "metadata": {
    "id": "URYFLND5FPW9"
   },
   "source": [
    "### 스스로 해보기\n",
    "#아래 부분을 수정해서 처음부터 다시 진행해보기 바랍니다. \n",
    "\n",
    "* 예1) 노이즈를 다르게 준다\n",
    "```\n",
    "x_train = [1, 2, 3]\n",
    "y_train = [2+0.1, 4-0.3, 6+0.15] # 약간의 noise 추가\n",
    "```\n",
    "* 예2) 데이터의 갯수를 지금은 세 개의 점으로 했으나 더 늘려서도 해본다.\n",
    "\n",
    "* 예3) 데이터의 모델을 현재는 y=2x+0 으로 해서 만들었으나, 바꾸어본다.\n",
    "```\n",
    "y=3x-5 \n",
    "y=1.2x + 3\n",
    "```\n",
    "\n",
    "* 예4) 초기값인 w0, b0를 다르게 설정해본다.\n",
    "```\n",
    "w0 = 7.0;\n",
    "b0 = 5.0;\n",
    "```"
   ]
  },
  {
   "cell_type": "markdown",
   "metadata": {},
   "source": [
    "### R-Squared\n",
    "\n",
    "R-Squared란? 모델이 데이터에 얼마나 적합한 지 수치적으로 결정하는 방법."
   ]
  },
  {
   "cell_type": "code",
   "execution_count": 19,
   "metadata": {},
   "outputs": [],
   "source": [
    "import matplotlib.pyplot as plt\n",
    "import numpy as np\n",
    "from sklearn.linear_model import LinearRegression\n",
    "from sklearn.metrics import mean_squared_error\n",
    "import random\n",
    "%matplotlib inline"
   ]
  },
  {
   "cell_type": "markdown",
   "metadata": {},
   "source": [
    "### MSE(Mean Squared Error)"
   ]
  },
  {
   "cell_type": "code",
   "execution_count": 20,
   "metadata": {},
   "outputs": [
    {
     "name": "stdout",
     "output_type": "stream",
     "text": [
      "[[0.7]\n",
      " [1.2]\n",
      " [1.7]\n",
      " [2.2]\n",
      " [2.7]\n",
      " [3.2]]\n"
     ]
    }
   ],
   "source": [
    "x = [[1], [2], [3], [4], [5], [6]]\n",
    "y = [[0.7], [1.2], [1.7], [2.2], [2.7], [3.2]]\n",
    "y = np.array(y)\n",
    "x = np.array(x)\n",
    "mean = (0.7+1.2+1.7+2.2+2.7+3.2)/5 #데이터의 평균값\n",
    "print(y)"
   ]
  },
  {
   "cell_type": "code",
   "execution_count": 21,
   "metadata": {},
   "outputs": [
    {
     "data": {
      "text/plain": [
       "Text(0, 0.5, 'Y')"
      ]
     },
     "execution_count": 21,
     "metadata": {},
     "output_type": "execute_result"
    },
    {
     "data": {
      "image/png": "[encoded data removed]",
      "text/plain": [
       "<Figure size 432x288 with 1 Axes>"
      ]
     },
     "metadata": {
      "needs_background": "light"
     },
     "output_type": "display_data"
    }
   ],
   "source": [
    "plt.plot(x, y, marker='o',linestyle='')\n",
    "plt.xlabel('X')\n",
    "plt.ylabel('Y')"
   ]
  },
  {
   "cell_type": "code",
   "execution_count": 22,
   "metadata": {},
   "outputs": [
    {
     "data": {
      "text/plain": [
       "LinearRegression()"
      ]
     },
     "execution_count": 22,
     "metadata": {},
     "output_type": "execute_result"
    }
   ],
   "source": [
    "lr = LinearRegression()\n",
    "lr.fit(x,y)"
   ]
  },
  {
   "cell_type": "code",
   "execution_count": 25,
   "metadata": {},
   "outputs": [
    {
     "data": {
      "text/plain": [
       "<matplotlib.lines.Line2D at 0x1a0106ca948>"
      ]
     },
     "execution_count": 25,
     "metadata": {},
     "output_type": "execute_result"
    },
    {
     "data": {
      "image/png": "[encoded data removed]",
      "text/plain": [
       "<Figure size 432x288 with 1 Axes>"
      ]
     },
     "metadata": {
      "needs_background": "light"
     },
     "output_type": "display_data"
    }
   ],
   "source": [
    "plt.plot(x, y, marker='o',linestyle='')\n",
    "plt.plot(x,lr.predict(x),color='red')\n",
    "plt.axhline(y=mean,xmin=0.04,xmax=0.96,color='black')"
   ]
  },
  {
   "cell_type": "code",
   "execution_count": 26,
   "metadata": {},
   "outputs": [
    {
     "data": {
      "text/plain": [
       "0.0"
      ]
     },
     "execution_count": 26,
     "metadata": {},
     "output_type": "execute_result"
    }
   ],
   "source": [
    "mean_squared_error(y,lr.predict(x))"
   ]
  },
  {
   "cell_type": "code",
   "execution_count": 27,
   "metadata": {},
   "outputs": [
    {
     "name": "stdout",
     "output_type": "stream",
     "text": [
      "[[0.7]\n",
      " [1.2]\n",
      " [1.7]\n",
      " [2.2]\n",
      " [2.7]\n",
      " [3.2]]\n"
     ]
    }
   ],
   "source": [
    "print(lr.predict(x))"
   ]
  },
  {
   "cell_type": "code",
   "execution_count": 29,
   "metadata": {},
   "outputs": [],
   "source": [
    "def myMSE(X,Y,line):\n",
    "    err = 0\n",
    "    #for i in range(len(X)): #예측값 MSE 구하기\n",
    "    #   err += (Y[i][0]-line[i][0])**2\n",
    "    \n",
    "    if (str(type(line)) == \"<class 'float'>\"): #평균 MSE 구하기\n",
    "        for i in range(len(X)):\n",
    "            err += (Y[i][0]-line)**2\n",
    "            \n",
    "    else:\n",
    "        for i in range(len(X)): #예측값 MSE 구하기\n",
    "            err += (Y[i][0]-line[i][0])**2\n",
    "            \n",
    "    MSE = err/len(X)\n",
    "    return MSE"
   ]
  },
  {
   "cell_type": "code",
   "execution_count": 30,
   "metadata": {},
   "outputs": [
    {
     "name": "stdout",
     "output_type": "stream",
     "text": [
      "MSE :  0.0\n"
     ]
    }
   ],
   "source": [
    "print(\"MSE : \", myMSE(x,y,lr.predict(x)))"
   ]
  },
  {
   "cell_type": "markdown",
   "metadata": {},
   "source": [
    "### R-squared"
   ]
  },
  {
   "cell_type": "code",
   "execution_count": 31,
   "metadata": {},
   "outputs": [
    {
     "data": {
      "text/plain": [
       "1.0"
      ]
     },
     "execution_count": 31,
     "metadata": {},
     "output_type": "execute_result"
    }
   ],
   "source": [
    "lr.score(x, y)"
   ]
  },
  {
   "cell_type": "code",
   "execution_count": 32,
   "metadata": {},
   "outputs": [],
   "source": [
    "def myRsq(X,Y,model):\n",
    "    \n",
    "    #평균구하기\n",
    "    hap = 0\n",
    "    for i in range(len(X)):\n",
    "        hap += Y[i][0]\n",
    "    mean = float(hap/len(X))\n",
    "    print(\"평균 : \", mean)\n",
    "    \n",
    "    #모델 fit하기\n",
    "    model.fit(X,Y)\n",
    "    \n",
    "    #MSE와 R-squared 구하기\n",
    "    reg_mse = myMSE(X,Y,model.predict(X))\n",
    "    avg_mse = myMSE(X, Y, mean)\n",
    "    r = 1-(reg_mse/avg_mse)\n",
    "    \n",
    "    print(\"R-squared : \", r)"
   ]
  },
  {
   "cell_type": "code",
   "execution_count": 33,
   "metadata": {},
   "outputs": [
    {
     "name": "stdout",
     "output_type": "stream",
     "text": [
      "평균 :  1.95\n",
      "R-squared :  1.0\n"
     ]
    }
   ],
   "source": [
    "myRsq(x,y,LinearRegression())"
   ]
  }
 ],
 "metadata": {
  "colab": {
   "collapsed_sections": [],
   "name": "01_linear_regression_using_tensorflow.ipynb",
   "provenance": []
  },
  "kernelspec": {
   "display_name": "Python 3",
   "language": "python",
   "name": "python3"
  },
  "language_info": {
   "codemirror_mode": {
    "name": "ipython",
    "version": 3
   },
   "file_extension": ".py",
   "mimetype": "text/x-python",
   "name": "python",
   "nbconvert_exporter": "python",
   "pygments_lexer": "ipython3",
   "version": "3.7.7"
  }
 },
 "nbformat": 4,
 "nbformat_minor": 1
}
